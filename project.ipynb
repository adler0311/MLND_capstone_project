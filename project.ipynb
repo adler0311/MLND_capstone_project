{
 "cells": [
  {
   "cell_type": "code",
   "execution_count": null,
   "metadata": {
    "collapsed": true
   },
   "outputs": [],
   "source": [
    "import quandl\n",
    "import matplotlib.pyplot as plt\n",
    "import pandas as pd\n",
    "import numpy as np\n",
    "\n",
    "quandl.ApiConfig.api_key = 'API_KEY'\n",
    "TICKERS = ['AMZN', 'MSFT', 'DIS', 'KO']  # AMAZON, MICROSOFT, DISNEY, COCA-COLA\n",
    "ticker = 'DIS'\n",
    "\n",
    "try:\n",
    "    stock = quandl.get('%s/%s' % ('WIKI', ticker))\n",
    "except Exception as e:\n",
    "    print('Error Retrieving Data.')\n",
    "    print(e)\n",
    "\n",
    "stock = stock.reset_index()\n",
    "\n",
    "min_date = min(stock['Date'])\n",
    "max_date = max(stock['Date'])\n",
    "print('{} Stocker initialized. Data covers {} to {}'.format(ticker, min_date.date(), max_date.date()))\n",
    "stock.head()\n"
   ]
  },
  {
   "cell_type": "code",
   "execution_count": null,
   "metadata": {
    "collapsed": true
   },
   "outputs": [],
   "source": [
    "# 1. stock 데이터의 컬럼을 Close 만 남기기.\n",
    "stock =stock[['Date', 'Adj. Close']]\n",
    "stock.head()"
   ]
  },
  {
   "cell_type": "code",
   "execution_count": null,
   "metadata": {
    "collapsed": true
   },
   "outputs": [],
   "source": [
    "##### Exploratory Visualization\n",
    "### stock 데이터 한 번 그려주자.\n",
    "fig, ax = plt.subplots(1,1)\n",
    "ax.plot(np.array(stock)[:,0], np.array(stock)[:,1], 'c', linewidth=1.4, label='whole data')\n",
    "plt.legend(loc=2, prop={'size': 10})\n",
    "plt.xlabel('Date')\n",
    "plt.ylabel('Price $')\n",
    "plt.grid(linewidth=0.6, alpha=0.6)\n",
    "plt.title('{} stock price'.format(ticker))\n",
    "plt.show()"
   ]
  },
  {
   "cell_type": "code",
   "execution_count": null,
   "metadata": {
    "collapsed": true
   },
   "outputs": [],
   "source": [
    "# 2. 데이터셋 생성하기.\n",
    "WINDOW_SIZE = 245\n",
    "TRAINING_START_DATE = '2013-01-01'\n",
    "TRAINING_END_DATE = '2016-12-31'\n",
    "VALIDATION_START_DATE = '2017-01-01'\n",
    "VALIDATION_END_DATE = '2017-12-31'\n",
    "TEST_START_DATE = '2018-01-01'\n",
    "\n",
    "train_mask = (stock['Date'] > TRAINING_START_DATE) & (stock['Date'] < TRAINING_END_DATE)\n",
    "train = np.array(stock.loc[train_mask])\n",
    "\n",
    "def makeDataset(data, window_size):\n",
    "    dataset_x = []\n",
    "    dataset_y = []\n",
    "\n",
    "    for i in range(len(data) - window_size):\n",
    "        subset = data[i:i + window_size + 1]\n",
    "\n",
    "        sub_dataset_x = []\n",
    "        first_subset_data = subset[0][1]\n",
    "        for si in range(len(subset) - 1):\n",
    "            sub_dataset_x.append(subset[si][1] / float(first_subset_data) - 1)\n",
    "\n",
    "        dataset_x.append(sub_dataset_x)\n",
    "        dataset_y.append([subset[window_size][1] / float(first_subset_data) - 1])\n",
    "\n",
    "    return np.array(dataset_x), np.array(dataset_y)\n",
    "\n",
    "x_train, y_train = makeDataset(train, WINDOW_SIZE)\n",
    "\n",
    "print(x_train.shape)\n",
    "print(y_train.shape)\n"
   ]
  },
  {
   "cell_type": "code",
   "execution_count": null,
   "metadata": {
    "collapsed": true
   },
   "outputs": [],
   "source": [
    "# 3. 모델 구성하기 (LSTM)\n",
    "from keras.models import Sequential\n",
    "from keras.layers import Dense, LSTM\n",
    "\n",
    "FEATURE_LENGTH = 1\n",
    "\n",
    "model = Sequential()\n",
    "model.add(LSTM(128, batch_input_shape=(1, WINDOW_SIZE, FEATURE_LENGTH), stateful=True))\n",
    "model.add(Dense(1, activation='linear'))"
   ]
  },
  {
   "cell_type": "code",
   "execution_count": null,
   "metadata": {
    "collapsed": true
   },
   "outputs": [],
   "source": [
    "# 4. 모델 학습과정 설명하기\n",
    "model.compile(loss='mse', optimizer='adam')"
   ]
  },
  {
   "cell_type": "code",
   "execution_count": null,
   "metadata": {
    "collapsed": true
   },
   "outputs": [],
   "source": [
    "x_train = np.reshape(x_train, (x_train.shape[0], x_train.shape[1], 1))\n",
    "x_train.shape"
   ]
  },
  {
   "cell_type": "code",
   "execution_count": null,
   "metadata": {
    "collapsed": true
   },
   "outputs": [],
   "source": [
    "# 5. 모델 학습시키기\n",
    "import keras\n",
    "from keras.callbacks import EarlyStopping\n",
    "\n",
    "num_epochs = 8\n",
    "\n",
    "\n",
    "class LossHistory(keras.callbacks.Callback):\n",
    "    def __init__(self):\n",
    "        super().__init__()\n",
    "        self.losses = []\n",
    "\n",
    "    def on_epoch_end(self, batch, logs=None):\n",
    "        if logs is None:\n",
    "            logs = {}\n",
    "        self.losses.append(logs.get('loss'))\n",
    "\n",
    "\n",
    "history = LossHistory()\n",
    "callbacks = [\n",
    "    history,\n",
    "    EarlyStopping(monitor='loss', patience=4),\n",
    "]\n",
    "\n",
    "for epoch_idx in range(num_epochs):\n",
    "    print('epochs: {}/{}'.format(str(epoch_idx + 1), str(num_epochs)))\n",
    "    model.fit(x_train, y_train, epochs=1, batch_size=1, verbose=2, callbacks=callbacks)\n",
    "    model.reset_states()"
   ]
  },
  {
   "cell_type": "code",
   "execution_count": null,
   "metadata": {
    "collapsed": true
   },
   "outputs": [],
   "source": [
    "# 6. 학습 과정 살펴보기 - matplotlib\n",
    "%matplotlib inline\n",
    "plt.plot(history.losses)\n",
    "plt.ylabel('loss')\n",
    "plt.xlabel('epoch')\n",
    "plt.legend(['train'], loc='upper right')\n",
    "plt.show()"
   ]
  },
  {
   "cell_type": "code",
   "execution_count": null,
   "metadata": {
    "collapsed": true
   },
   "outputs": [],
   "source": [
    "# 7. 모델 평가하기\n",
    "validation_mask = (stock['Date'] > VALIDATION_START_DATE) & (stock['Date'] < VALIDATION_END_DATE)\n",
    "validation = np.array(stock.loc[validation_mask])\n",
    "x_validation, y_validation = makeDataset(validation, WINDOW_SIZE)\n",
    "x_validation = np.reshape(x_validation, (x_validation.shape[0], x_validation.shape[1], 1))\n",
    "validation_score = model.evaluate(x_validation, y_validation, batch_size=1)\n",
    "print('validation score : {} MSE'.format(validation_score))\n",
    "model.reset_states()"
   ]
  },
  {
   "cell_type": "code",
   "execution_count": null,
   "metadata": {
    "collapsed": true
   },
   "outputs": [],
   "source": [
    "# 7.5 여기서 모델을 저장해야 한다.\n",
    "model.save('{}_lstm_model.h5'.format(ticker))\n"
   ]
  },
  {
   "cell_type": "code",
   "execution_count": null,
   "metadata": {
    "collapsed": true
   },
   "outputs": [],
   "source": [
    "# 올해 데이터로 테스트하기.(test_set: 2018-01-01 ~ )\n",
    "test_seq_out = []\n",
    "\n",
    "test_mask = (stock['Date'] > TEST_START_DATE)\n",
    "test = np.array(stock.loc[test_mask])\n",
    "\n",
    "before_test_mask = (stock['Date'] < TEST_START_DATE)\n",
    "before_test = np.array(stock.loc[before_test_mask])\n",
    "\n",
    "test_seq_out = []\n",
    "test_seq_in = np.array(before_test[-WINDOW_SIZE:])[:, [1]].tolist()\n",
    "test_start_day = test_seq_in[-1][0]\n",
    "for i in range(len(test)):\n",
    "    normalized_test_seq_in = []\n",
    "    first_test_seq_in_value = test_seq_in[0][0]\n",
    "    for si in range(len(test_seq_in)):\n",
    "        normalized_test_seq_in.append(test_seq_in[si][0] / float(first_test_seq_in_value) - 1)\n",
    "    test_sample_in = np.array(normalized_test_seq_in)\n",
    "    test_sample_in = np.reshape(test_sample_in, (1, WINDOW_SIZE, FEATURE_LENGTH))\n",
    "    test_pred_out_normalized = model.predict(test_sample_in)\n",
    "    test_pred_out = first_test_seq_in_value * (test_pred_out_normalized[0][0] + 1)\n",
    "    test_seq_out.append(test_pred_out)\n",
    "    test_seq_in = test_seq_in[1:]\n",
    "    test_seq_in.append([test_pred_out])\n",
    "model.reset_states()\n"
   ]
  },
  {
   "cell_type": "code",
   "execution_count": null,
   "metadata": {
    "collapsed": true
   },
   "outputs": [],
   "source": [
    "from sklearn import cross_validation\n",
    "from sklearn.linear_model import LinearRegression\n",
    "### linear regression 예측 \n",
    "offset = test.shape[0]\n",
    "\n",
    "mask = (stock['Date'] > TRAINING_START_DATE)\n",
    "df = stock.loc[train_mask]\n",
    "df['Prediction'] = df[['Adj. Close']].shift(-offset)\n",
    "X = np.array(df.drop(['Prediction', 'Date'], 1))\n",
    "\n",
    "X_forecast = X[-offset:]\n",
    "X = X[:-offset]\n",
    "\n",
    "y = np.array(df['Prediction'])\n",
    "y = y[:-offset]\n",
    "\n",
    "X_train, X_test, y_train, y_test = cross_validation.train_test_split(X, y, test_size=0.2)\n",
    "\n",
    "# Training\n",
    "clf = LinearRegression()\n",
    "clf.fit(X_train, y_train)\n",
    "\n",
    "# Testing\n",
    "confidence = clf.score(X_test, y_test)\n",
    "print(\"confidence: \", confidence)\n",
    "test_pred = clf.predict(X_forecast)"
   ]
  },
  {
   "cell_type": "code",
   "execution_count": null,
   "metadata": {
    "collapsed": true
   },
   "outputs": [],
   "source": [
    "\n",
    "#### test 결과를 실제 값이랑 비교해서 보여주기\n",
    "recent_year_data = np.array(stock[stock['Date'] > (max(stock['Date']) - pd.DateOffset(years=1)).date()])[:]\n",
    "recent_year_data[:,0]\n",
    "fig, ax = plt.subplots(1,1)\n",
    "ax.plot(recent_year_data[:,0], recent_year_data[:,1], 'c', linewidth=1.4, label='Last 1 year')\n",
    "\n",
    "ax.plot(test[:,0], test[:,1], 'c', linewidth=2.4, label='Real value')\n",
    "ax.plot(test[:,0], test_seq_out, 'm', linewidth=2.4, label='LSTM Prediction')\n",
    "ax.plot(test[:,0], test_pred, 'y', linewidth=2.4, label='Linear Regrssion Prediction')\n",
    "plt.legend(loc=2, prop={'size': 10})\n",
    "plt.xlabel('Date')\n",
    "plt.ylabel('Price $')\n",
    "plt.grid(linewidth=0.6, alpha=0.6)\n",
    "plt.title('Predict test set Stock Price of {}'.format(ticker))\n",
    "plt.show()"
   ]
  },
  {
   "cell_type": "code",
   "execution_count": null,
   "metadata": {
    "collapsed": true
   },
   "outputs": [],
   "source": [
    "# 8. 예측하기\n",
    "future_days = 20\n",
    "seq_out = []\n",
    "seq_in = np.array(stock[-WINDOW_SIZE:])[:, [1]].tolist()\n",
    "today = seq_in[-1][0]\n",
    "\n",
    "for i in range(future_days):\n",
    "    normalized_seq_in = []\n",
    "    first_seq_in_value = seq_in[0][0]\n",
    "    for si in range(len(seq_in)):\n",
    "        normalized_seq_in.append(seq_in[si][0] / float(first_seq_in_value) - 1)\n",
    "    sample_in = np.array(normalized_seq_in)\n",
    "    sample_in = np.reshape(sample_in, (1, WINDOW_SIZE, FEATURE_LENGTH))\n",
    "    pred_out_normalized = model.predict(sample_in)\n",
    "    pred_out = first_seq_in_value * (pred_out_normalized[0][0] + 1)\n",
    "    seq_out.append(pred_out)\n",
    "    seq_in = seq_in[1:]\n",
    "    seq_in.append([pred_out])\n",
    "\n",
    "model.reset_states()\n",
    "\n",
    "print(\"today's price: {:0.2f}\".format(today))\n",
    "print('full prediction is : ', seq_out)\n",
    "print('{} days after today price is {:0.2f}'.format(future_days, seq_out[-1].item()))"
   ]
  },
  {
   "cell_type": "code",
   "execution_count": null,
   "metadata": {
    "collapsed": true
   },
   "outputs": [],
   "source": [
    "recent_year_data = np.array(stock[stock['Date'] > (max(stock['Date']) - pd.DateOffset(years=1)).date()])[:]\n",
    "recent_year_data[:, 0]\n",
    "fig, ax = plt.subplots(1, 1)\n",
    "ax.plot(recent_year_data[:, 0], recent_year_data[:, 1], 'c', linewidth=1.4, label='Recent')\n",
    "last_date = recent_year_data[-1, 0]\n",
    "periods = future_days\n",
    "dates = pd.date_range(\n",
    "    start=last_date,\n",
    "    periods=periods + 1,\n",
    "    freq='D'\n",
    ")\n",
    "dates = dates[dates > last_date]\n",
    "future_data_frame = pd.DataFrame({'date': dates})\n",
    "ax.plot(future_data_frame['date'], seq_out, 'm', linewidth=2.4, label='LSTM Predict')\n",
    "plt.legend(loc=2, prop={'size': 10})\n",
    "plt.xlabel('Date')\n",
    "plt.ylabel('Price $')\n",
    "plt.grid(linewidth=0.6, alpha=0.6)\n",
    "plt.title('Historical and Predicted Stock Price of {}'.format(ticker))\n",
    "plt.show()\n"
   ]
  }
 ],
 "metadata": {
  "kernelspec": {
   "display_name": "Python 2",
   "language": "python",
   "name": "python2"
  },
  "language_info": {
   "codemirror_mode": {
    "name": "ipython",
    "version": 2
   },
   "file_extension": ".py",
   "mimetype": "text/x-python",
   "name": "python",
   "nbconvert_exporter": "python",
   "pygments_lexer": "ipython2",
   "version": "2.7.6"
  }
 },
 "nbformat": 4,
 "nbformat_minor": 0
}
